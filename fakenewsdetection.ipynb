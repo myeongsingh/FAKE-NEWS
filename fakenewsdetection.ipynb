{
  "nbformat": 4,
  "nbformat_minor": 0,
  "metadata": {
    "colab": {
      "provenance": [],
      "authorship_tag": "ABX9TyMIXLMbterjozz0N4b+HTl8",
      "include_colab_link": true
    },
    "kernelspec": {
      "name": "python3",
      "display_name": "Python 3"
    },
    "language_info": {
      "name": "python"
    }
  },
  "cells": [
    {
      "cell_type": "markdown",
      "metadata": {
        "id": "view-in-github",
        "colab_type": "text"
      },
      "source": [
        "<a href=\"https://colab.research.google.com/github/myeongsingh/FAKE-NEWS/blob/main/fakenewsdetection.ipynb\" target=\"_parent\"><img src=\"https://colab.research.google.com/assets/colab-badge.svg\" alt=\"Open In Colab\"/></a>"
      ]
    },
    {
      "cell_type": "code",
      "execution_count": 2,
      "metadata": {
        "id": "eX0gADY_eLdY",
        "colab": {
          "base_uri": "https://localhost:8080/"
        },
        "outputId": "56e1e98b-665a-4e92-952f-2fa7b7873baf"
      },
      "outputs": [
        {
          "output_type": "stream",
          "name": "stdout",
          "text": [
            "  Unnamed: 0                                              title  \\\n",
            "0       8476                       You Can Smell Hillary’s Fear   \n",
            "1      10294  Watch The Exact Moment Paul Ryan Committed Pol...   \n",
            "2       3608        Kerry to go to Paris in gesture of sympathy   \n",
            "3      10142  Bernie supporters on Twitter erupt in anger ag...   \n",
            "4        875   The Battle of New York: Why This Primary Matters   \n",
            "\n",
            "                                                text label Unnamed: 4  \\\n",
            "0  Daniel Greenfield, a Shillman Journalism Fello...  FAKE        NaN   \n",
            "1  Google Pinterest Digg Linkedin Reddit Stumbleu...  FAKE        NaN   \n",
            "2  U.S. Secretary of State John F. Kerry said Mon...  REAL        NaN   \n",
            "3  — Kaydee King (@KaydeeKing) November 9, 2016 T...  FAKE        NaN   \n",
            "4  It's primary day in New York and front-runners...  REAL        NaN   \n",
            "\n",
            "  Unnamed: 5 Unnamed: 6 Unnamed: 7 Unnamed: 8 Unnamed: 9  ... Unnamed: 131  \\\n",
            "0        NaN        NaN        NaN        NaN        NaN  ...          NaN   \n",
            "1        NaN        NaN        NaN        NaN        NaN  ...          NaN   \n",
            "2        NaN        NaN        NaN        NaN        NaN  ...          NaN   \n",
            "3        NaN        NaN        NaN        NaN        NaN  ...          NaN   \n",
            "4        NaN        NaN        NaN        NaN        NaN  ...          NaN   \n",
            "\n",
            "  Unnamed: 132 Unnamed: 133 Unnamed: 134 Unnamed: 135 Unnamed: 136  \\\n",
            "0          NaN          NaN          NaN          NaN          NaN   \n",
            "1          NaN          NaN          NaN          NaN          NaN   \n",
            "2          NaN          NaN          NaN          NaN          NaN   \n",
            "3          NaN          NaN          NaN          NaN          NaN   \n",
            "4          NaN          NaN          NaN          NaN          NaN   \n",
            "\n",
            "  Unnamed: 137 Unnamed: 138 Unnamed: 139 Unnamed: 140  \n",
            "0          NaN          NaN          NaN          NaN  \n",
            "1          NaN          NaN          NaN          NaN  \n",
            "2          NaN          NaN          NaN          NaN  \n",
            "3          NaN          NaN          NaN          NaN  \n",
            "4          NaN          NaN          NaN          NaN  \n",
            "\n",
            "[5 rows x 141 columns]\n"
          ]
        }
      ],
      "source": [
        "import pandas as pd\n",
        "import numpy as np\n",
        "from sklearn.feature_extraction.text import CountVectorizer\n",
        "from sklearn.model_selection import train_test_split\n",
        "from sklearn.naive_bayes import MultinomialNB\n",
        "\n",
        "data = pd.read_csv(\"fakerealnews.csv\")\n",
        "print(data.head())"
      ]
    },
    {
      "cell_type": "code",
      "source": [
        "!pip install numpy\n"
      ],
      "metadata": {
        "colab": {
          "base_uri": "https://localhost:8080/"
        },
        "id": "YrpD5Y-Ff0en",
        "outputId": "88caf6f8-b2e9-47df-b900-229755bb7648"
      },
      "execution_count": 6,
      "outputs": [
        {
          "output_type": "stream",
          "name": "stdout",
          "text": [
            "Requirement already satisfied: numpy in /usr/local/lib/python3.10/dist-packages (1.25.2)\n"
          ]
        }
      ]
    },
    {
      "cell_type": "code",
      "execution_count": 9,
      "metadata": {
        "id": "fFdHIdXlfAWN"
      },
      "outputs": [],
      "source": [
        "import numpy as np"
      ]
    },
    {
      "cell_type": "code",
      "source": [
        "print(data.head())"
      ],
      "metadata": {
        "colab": {
          "base_uri": "https://localhost:8080/"
        },
        "id": "2Cd5m-sGgoww",
        "outputId": "23887991-c5f1-49ac-c8bc-c6cd8919c334"
      },
      "execution_count": 10,
      "outputs": [
        {
          "output_type": "stream",
          "name": "stdout",
          "text": [
            "  Unnamed: 0                                              title  \\\n",
            "0       8476                       You Can Smell Hillary’s Fear   \n",
            "1      10294  Watch The Exact Moment Paul Ryan Committed Pol...   \n",
            "2       3608        Kerry to go to Paris in gesture of sympathy   \n",
            "3      10142  Bernie supporters on Twitter erupt in anger ag...   \n",
            "4        875   The Battle of New York: Why This Primary Matters   \n",
            "\n",
            "                                                text label Unnamed: 4  \\\n",
            "0  Daniel Greenfield, a Shillman Journalism Fello...  FAKE        NaN   \n",
            "1  Google Pinterest Digg Linkedin Reddit Stumbleu...  FAKE        NaN   \n",
            "2  U.S. Secretary of State John F. Kerry said Mon...  REAL        NaN   \n",
            "3  — Kaydee King (@KaydeeKing) November 9, 2016 T...  FAKE        NaN   \n",
            "4  It's primary day in New York and front-runners...  REAL        NaN   \n",
            "\n",
            "  Unnamed: 5 Unnamed: 6 Unnamed: 7 Unnamed: 8 Unnamed: 9  ... Unnamed: 131  \\\n",
            "0        NaN        NaN        NaN        NaN        NaN  ...          NaN   \n",
            "1        NaN        NaN        NaN        NaN        NaN  ...          NaN   \n",
            "2        NaN        NaN        NaN        NaN        NaN  ...          NaN   \n",
            "3        NaN        NaN        NaN        NaN        NaN  ...          NaN   \n",
            "4        NaN        NaN        NaN        NaN        NaN  ...          NaN   \n",
            "\n",
            "  Unnamed: 132 Unnamed: 133 Unnamed: 134 Unnamed: 135 Unnamed: 136  \\\n",
            "0          NaN          NaN          NaN          NaN          NaN   \n",
            "1          NaN          NaN          NaN          NaN          NaN   \n",
            "2          NaN          NaN          NaN          NaN          NaN   \n",
            "3          NaN          NaN          NaN          NaN          NaN   \n",
            "4          NaN          NaN          NaN          NaN          NaN   \n",
            "\n",
            "  Unnamed: 137 Unnamed: 138 Unnamed: 139 Unnamed: 140  \n",
            "0          NaN          NaN          NaN          NaN  \n",
            "1          NaN          NaN          NaN          NaN  \n",
            "2          NaN          NaN          NaN          NaN  \n",
            "3          NaN          NaN          NaN          NaN  \n",
            "4          NaN          NaN          NaN          NaN  \n",
            "\n",
            "[5 rows x 141 columns]\n"
          ]
        }
      ]
    },
    {
      "cell_type": "code",
      "source": [
        "print(data.isnull().sum())"
      ],
      "metadata": {
        "colab": {
          "base_uri": "https://localhost:8080/"
        },
        "id": "XM6MLQaKgrPB",
        "outputId": "8160d0d3-45f0-4851-c5b7-2315a94c59c2"
      },
      "execution_count": 11,
      "outputs": [
        {
          "output_type": "stream",
          "name": "stdout",
          "text": [
            "Unnamed: 0       156\n",
            "title            248\n",
            "text             325\n",
            "label            390\n",
            "Unnamed: 4      3600\n",
            "                ... \n",
            "Unnamed: 136    3759\n",
            "Unnamed: 137    3759\n",
            "Unnamed: 138    3759\n",
            "Unnamed: 139    3759\n",
            "Unnamed: 140    3759\n",
            "Length: 141, dtype: int64\n"
          ]
        }
      ]
    },
    {
      "cell_type": "code",
      "source": [
        "data = data.fillna(\"\")"
      ],
      "metadata": {
        "id": "uExaziLGgulh"
      },
      "execution_count": 12,
      "outputs": []
    },
    {
      "cell_type": "code",
      "source": [
        "x = np.array(data[\"title\"])\n",
        "y = np.array(data[\"label\"])\n",
        "\n",
        "cv = CountVectorizer()\n",
        "x = cv.fit_transform(x)"
      ],
      "metadata": {
        "id": "BzvtFkBMgzF4"
      },
      "execution_count": 13,
      "outputs": []
    },
    {
      "cell_type": "code",
      "source": [
        "xtrain, xtest, ytrain, ytest = train_test_split(x, y, test_size=0.2, random_state=42)\n",
        "model = MultinomialNB()\n",
        "model.fit(xtrain, ytrain)\n",
        "print(model.score(xtest, ytest))"
      ],
      "metadata": {
        "colab": {
          "base_uri": "https://localhost:8080/"
        },
        "id": "VVnBuVrlg8EV",
        "outputId": "09563535-94ac-416a-862f-e8768f1fdd80"
      },
      "execution_count": 14,
      "outputs": [
        {
          "output_type": "stream",
          "name": "stdout",
          "text": [
            "0.6821808510638298\n"
          ]
        }
      ]
    },
    {
      "cell_type": "code",
      "source": [
        "news_headline = \"CA Exams 2021: Supreme Court asks ICAI to extend opt-out option for July exams, final order tomorrow\"\n",
        "data = cv.transform([news_headline]).toarray()\n",
        "print(model.predict(data))"
      ],
      "metadata": {
        "colab": {
          "base_uri": "https://localhost:8080/"
        },
        "id": "o0DXV5MZg-JY",
        "outputId": "856fa5aa-30d2-4dda-d461-bf7b92944940"
      },
      "execution_count": 15,
      "outputs": [
        {
          "output_type": "stream",
          "name": "stdout",
          "text": [
            "['REAL']\n"
          ]
        }
      ]
    },
    {
      "cell_type": "code",
      "source": [
        "news_headline = \"Cow dung can cure Corona Virus\"\n",
        "data = cv.transform([news_headline]).toarray()\n",
        "print(model.predict(data))"
      ],
      "metadata": {
        "colab": {
          "base_uri": "https://localhost:8080/"
        },
        "id": "mwkQO4NRhEEv",
        "outputId": "2793058f-2cce-4318-dbb5-3f00540d3696"
      },
      "execution_count": 16,
      "outputs": [
        {
          "output_type": "stream",
          "name": "stdout",
          "text": [
            "['FAKE']\n"
          ]
        }
      ]
    }
  ]
}